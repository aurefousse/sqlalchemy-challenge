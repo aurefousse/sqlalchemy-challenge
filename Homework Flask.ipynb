{
 "cells": [
  {
   "cell_type": "code",
   "execution_count": 3,
   "id": "3d43795c",
   "metadata": {},
   "outputs": [],
   "source": [
    "from flask import Flask\n",
    "import sqlalchemy\n",
    "from sqlalchemy.ext.automap import automap_base\n",
    "from sqlalchemy.orm import Session\n",
    "from sqlalchemy import create_engine, func\n"
   ]
  },
  {
   "cell_type": "code",
   "execution_count": 5,
   "id": "a21a0112",
   "metadata": {},
   "outputs": [],
   "source": [
    "engine = create_engine(\"sqlite:///Resources/hawaii.sqlite\")\n",
    "Base = automap_base()\n",
    "Base.prepare(engine, reflect = True)\n",
    "Measurement = Base.classes.measurement\n",
    "Station = Base.classes.station\n"
   ]
  },
  {
   "cell_type": "code",
   "execution_count": 8,
   "id": "06001fe3",
   "metadata": {},
   "outputs": [],
   "source": [
    "app = Flask(__name__)\n",
    "\n",
    "@app.route(\"/\")\n",
    "def home():\n",
    "    \"\"\"List all vailable api routes.\"\"\"\n",
    "    return(\n",
    "        f\"Available routes:<br>\"\n",
    "        f\"/api/v1.0/precipitation<br>\"\n",
    "        f\"/api/v1.0/stations<br>\"\n",
    "        f\"/api/v1.0/tobs<br>\"\n",
    "        f\"/api/v1.0/<start><br>\"\n",
    "        f\"/api/v1.0/<start>/<end>\"\n",
    "    )\n",
    "\n"
   ]
  },
  {
   "cell_type": "code",
   "execution_count": 9,
   "id": "1d67d18e",
   "metadata": {},
   "outputs": [],
   "source": [
    "@app.route(\"/api/v1.0/precipitation\")\n",
    "def precipitation():\n",
    "    session = Session(engine)\n",
    "    results = session.query(Precipitation.date, Precipitation.prcp).all()\n",
    "    session.close()\n",
    "    precipitations = []\n",
    "    for date, prcp in results:\n",
    "        precipitation_dict[\"Date\"] = date\n",
    "        precipitation_dict[\"Precipitation\"] = prcp\n",
    "        precipitations.append(precipitation_dict)\n",
    "    return jsonify(precipitations)\n",
    "\n"
   ]
  },
  {
   "cell_type": "code",
   "execution_count": 10,
   "id": "6622a32f",
   "metadata": {},
   "outputs": [],
   "source": [
    "@app.route(\"/api/v1.0/stations\")\n",
    "def stations():\n",
    "    session = Session(engine)\n",
    "    results = session.query(Station.station).all()\n",
    "    session.close()\n",
    "    stations = []\n",
    "    for station in results:\n",
    "        station_dict[\"Station Name\"] = station\n",
    "        stations.append(station_dict)\n",
    "    return jsonify(stations)\n",
    "    "
   ]
  },
  {
   "cell_type": "code",
   "execution_count": 11,
   "id": "6661f9d6",
   "metadata": {},
   "outputs": [],
   "source": [
    "@app.route(\"/api/v1.0/tobs\")\n",
    "def tobs():\n",
    "    session = Session(engine)\n",
    "    results = session.query(Measurement.station, Measurement.date, Measurement.tobs).\\\n",
    "    filter(Measurement.station == 'USC00519281').filter(Measurement.date > '2016,8,23').all()\n",
    "    session.close()\n",
    "    temperatures = []\n",
    "    for temperature in results:\n",
    "        temperature_dict[\"Station Name\"] = station\n",
    "        temperature_dict[\"Date\"] = date\n",
    "        temperature_dict[\"Temperature\"] = tobs\n",
    "        temperatures.append(temperature_dict)\n",
    "    return jsonify(temperatures)"
   ]
  }
 ],
 "metadata": {
  "kernelspec": {
   "display_name": "Python 3",
   "language": "python",
   "name": "python3"
  },
  "language_info": {
   "codemirror_mode": {
    "name": "ipython",
    "version": 3
   },
   "file_extension": ".py",
   "mimetype": "text/x-python",
   "name": "python",
   "nbconvert_exporter": "python",
   "pygments_lexer": "ipython3",
   "version": "3.8.8"
  }
 },
 "nbformat": 4,
 "nbformat_minor": 5
}
